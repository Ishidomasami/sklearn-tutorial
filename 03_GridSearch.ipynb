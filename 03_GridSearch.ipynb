{
 "cells": [
  {
   "cell_type": "code",
   "execution_count": 1,
   "metadata": {
    "collapsed": true
   },
   "outputs": [],
   "source": [
    "%matplotlib inline\n",
    "import pandas as pd\n",
    "import numpy as np\n",
    "from matplotlib import pyplot as plt"
   ]
  },
  {
   "cell_type": "code",
   "execution_count": 2,
   "metadata": {
    "collapsed": true
   },
   "outputs": [],
   "source": [
    "from sklearn.svm import SVC\n",
    "clf=SVC(probability=True)"
   ]
  },
  {
   "cell_type": "code",
   "execution_count": 3,
   "metadata": {
    "collapsed": true
   },
   "outputs": [],
   "source": [
    "from sklearn.datasets import load_iris\n",
    "dat=load_iris().data\n",
    "label=load_iris().target"
   ]
  },
  {
   "cell_type": "markdown",
   "metadata": {},
   "source": [
    "# GridSearch\n",
    "> [公式ドキュメント](http://scikit-learn.org/stable/modules/grid_search.html#grid-search)"
   ]
  },
  {
   "cell_type": "code",
   "execution_count": 4,
   "metadata": {
    "collapsed": true
   },
   "outputs": [],
   "source": [
    "from sklearn import grid_search as grid, cross_validation as cv"
   ]
  },
  {
   "cell_type": "markdown",
   "metadata": {},
   "source": [
    "#### 分類機のインスタンスはget_params()で設定できるパラメータを表示できる"
   ]
  },
  {
   "cell_type": "code",
   "execution_count": 5,
   "metadata": {
    "collapsed": false
   },
   "outputs": [
    {
     "data": {
      "text/plain": [
       "{'C': 1.0,\n",
       " 'cache_size': 200,\n",
       " 'class_weight': None,\n",
       " 'coef0': 0.0,\n",
       " 'decision_function_shape': None,\n",
       " 'degree': 3,\n",
       " 'gamma': 'auto',\n",
       " 'kernel': 'rbf',\n",
       " 'max_iter': -1,\n",
       " 'probability': True,\n",
       " 'random_state': None,\n",
       " 'shrinking': True,\n",
       " 'tol': 0.001,\n",
       " 'verbose': False}"
      ]
     },
     "execution_count": 5,
     "metadata": {},
     "output_type": "execute_result"
    }
   ],
   "source": [
    "clf.get_params()"
   ]
  },
  {
   "cell_type": "markdown",
   "metadata": {},
   "source": [
    "#### gridで設定したいパラメータを辞書形式で定義する"
   ]
  },
  {
   "cell_type": "code",
   "execution_count": 6,
   "metadata": {
    "collapsed": true
   },
   "outputs": [],
   "source": [
    "parameters = {\n",
    "    'kernel':('linear', 'rbf'),\n",
    "    'C': np.linspace(1,10,5),\n",
    "    'gamma' : np.append(\n",
    "                        np.logspace(-4,1,11).astype('object'),\n",
    "                        'auto'\n",
    "                        )\n",
    "}"
   ]
  },
  {
   "cell_type": "markdown",
   "metadata": {},
   "source": [
    "#### パラメータグリッドでラップした分類機を作成してフィッティングを行う\n",
    "\n",
    "> クロスバリデーションまでまとめて実行も可能\n",
    "\n",
    "> デフォルトはcv=None"
   ]
  },
  {
   "cell_type": "code",
   "execution_count": 7,
   "metadata": {
    "collapsed": false
   },
   "outputs": [],
   "source": [
    "cv_method=cv.StratifiedKFold(label,shuffle=True,n_folds=5)\n",
    "grid_clf=grid.GridSearchCV(clf,parameters,n_jobs=-1,cv=cv_method)"
   ]
  },
  {
   "cell_type": "markdown",
   "metadata": {},
   "source": [
    "> モデルの詰め合わせになる"
   ]
  },
  {
   "cell_type": "code",
   "execution_count": 8,
   "metadata": {
    "collapsed": false
   },
   "outputs": [
    {
     "data": {
      "text/plain": [
       "{'C': array([  1.  ,   3.25,   5.5 ,   7.75,  10.  ]),\n",
       " 'gamma': array([0.0001, 0.00031622776601683794, 0.001, 0.0031622776601683794, 0.01,\n",
       "        0.03162277660168379, 0.1, 0.31622776601683794, 1.0,\n",
       "        3.1622776601683795, 10.0, 'auto'], dtype=object),\n",
       " 'kernel': ('linear', 'rbf')}"
      ]
     },
     "execution_count": 8,
     "metadata": {},
     "output_type": "execute_result"
    }
   ],
   "source": [
    "grid_clf.param_grid"
   ]
  },
  {
   "cell_type": "code",
   "execution_count": 9,
   "metadata": {
    "collapsed": false
   },
   "outputs": [
    {
     "data": {
      "text/plain": [
       "GridSearchCV(cv=sklearn.cross_validation.StratifiedKFold(labels=[0 0 ..., 2 2], n_folds=5, shuffle=True, random_state=None),\n",
       "       error_score='raise',\n",
       "       estimator=SVC(C=1.0, cache_size=200, class_weight=None, coef0=0.0,\n",
       "  decision_function_shape=None, degree=3, gamma='auto', kernel='rbf',\n",
       "  max_iter=-1, probability=True, random_state=None, shrinking=True,\n",
       "  tol=0.001, verbose=False),\n",
       "       fit_params={}, iid=True, n_jobs=-1,\n",
       "       param_grid={'gamma': array([0.0001, 0.00031622776601683794, 0.001, 0.0031622776601683794, 0.01,\n",
       "       0.03162277660168379, 0.1, 0.31622776601683794, 1.0,\n",
       "       3.1622776601683795, 10.0, 'auto'], dtype=object), 'C': array([  1.  ,   3.25,   5.5 ,   7.75,  10.  ]), 'kernel': ('linear', 'rbf')},\n",
       "       pre_dispatch='2*n_jobs', refit=True, scoring=None, verbose=0)"
      ]
     },
     "execution_count": 9,
     "metadata": {},
     "output_type": "execute_result"
    }
   ],
   "source": [
    "grid_clf.fit(dat,label)"
   ]
  },
  {
   "cell_type": "code",
   "execution_count": 10,
   "metadata": {
    "collapsed": false
   },
   "outputs": [
    {
     "data": {
      "text/html": [
       "<div>\n",
       "<table border=\"1\" class=\"dataframe\">\n",
       "  <thead>\n",
       "    <tr style=\"text-align: right;\">\n",
       "      <th></th>\n",
       "      <th>parameters</th>\n",
       "      <th>mean_validation_score</th>\n",
       "      <th>cv_validation_scores</th>\n",
       "    </tr>\n",
       "  </thead>\n",
       "  <tbody>\n",
       "    <tr>\n",
       "      <th>0</th>\n",
       "      <td>{'gamma': 0.0001, 'C': 1.0, 'kernel': 'linear'}</td>\n",
       "      <td>0.973333</td>\n",
       "      <td>[0.966666666667, 0.966666666667, 1.0, 0.966666...</td>\n",
       "    </tr>\n",
       "    <tr>\n",
       "      <th>1</th>\n",
       "      <td>{'gamma': 0.0001, 'C': 1.0, 'kernel': 'rbf'}</td>\n",
       "      <td>0.926667</td>\n",
       "      <td>[0.866666666667, 0.966666666667, 0.9, 0.9, 1.0]</td>\n",
       "    </tr>\n",
       "    <tr>\n",
       "      <th>2</th>\n",
       "      <td>{'gamma': 0.00031622776601683794, 'C': 1.0, 'k...</td>\n",
       "      <td>0.973333</td>\n",
       "      <td>[0.966666666667, 0.966666666667, 1.0, 0.966666...</td>\n",
       "    </tr>\n",
       "    <tr>\n",
       "      <th>3</th>\n",
       "      <td>{'gamma': 0.00031622776601683794, 'C': 1.0, 'k...</td>\n",
       "      <td>0.926667</td>\n",
       "      <td>[0.866666666667, 0.966666666667, 0.9, 0.9, 1.0]</td>\n",
       "    </tr>\n",
       "    <tr>\n",
       "      <th>4</th>\n",
       "      <td>{'gamma': 0.001, 'C': 1.0, 'kernel': 'linear'}</td>\n",
       "      <td>0.973333</td>\n",
       "      <td>[0.966666666667, 0.966666666667, 1.0, 0.966666...</td>\n",
       "    </tr>\n",
       "  </tbody>\n",
       "</table>\n",
       "</div>"
      ],
      "text/plain": [
       "                                          parameters  mean_validation_score  \\\n",
       "0    {'gamma': 0.0001, 'C': 1.0, 'kernel': 'linear'}               0.973333   \n",
       "1       {'gamma': 0.0001, 'C': 1.0, 'kernel': 'rbf'}               0.926667   \n",
       "2  {'gamma': 0.00031622776601683794, 'C': 1.0, 'k...               0.973333   \n",
       "3  {'gamma': 0.00031622776601683794, 'C': 1.0, 'k...               0.926667   \n",
       "4     {'gamma': 0.001, 'C': 1.0, 'kernel': 'linear'}               0.973333   \n",
       "\n",
       "                                cv_validation_scores  \n",
       "0  [0.966666666667, 0.966666666667, 1.0, 0.966666...  \n",
       "1    [0.866666666667, 0.966666666667, 0.9, 0.9, 1.0]  \n",
       "2  [0.966666666667, 0.966666666667, 1.0, 0.966666...  \n",
       "3    [0.866666666667, 0.966666666667, 0.9, 0.9, 1.0]  \n",
       "4  [0.966666666667, 0.966666666667, 1.0, 0.966666...  "
      ]
     },
     "execution_count": 10,
     "metadata": {},
     "output_type": "execute_result"
    }
   ],
   "source": [
    "pd.DataFrame(grid_clf.grid_scores_).head()"
   ]
  },
  {
   "cell_type": "code",
   "execution_count": 11,
   "metadata": {
    "collapsed": false
   },
   "outputs": [
    {
     "name": "stdout",
     "output_type": "stream",
     "text": [
      "{'gamma': 0.1, 'C': 3.25, 'kernel': 'rbf'}\n",
      "0.986666666667\n"
     ]
    }
   ],
   "source": [
    "print(grid_clf.best_params_)\n",
    "print(grid_clf.best_score_)"
   ]
  },
  {
   "cell_type": "markdown",
   "metadata": {},
   "source": [
    "# ランダムフォレストの場合\n",
    "> iris(三次元)でランダムフォレスト使わないですが..."
   ]
  },
  {
   "cell_type": "code",
   "execution_count": 12,
   "metadata": {
    "collapsed": true
   },
   "outputs": [],
   "source": [
    "from sklearn.ensemble import RandomForestClassifier as RFC\n",
    "clf_rf=RFC()"
   ]
  },
  {
   "cell_type": "code",
   "execution_count": 13,
   "metadata": {
    "collapsed": false,
    "scrolled": true
   },
   "outputs": [
    {
     "name": "stdout",
     "output_type": "stream",
     "text": [
      "{'max_features': 'auto', 'criterion': 'gini', 'max_leaf_nodes': None, 'n_estimators': 10, 'random_state': None, 'bootstrap': True, 'min_samples_split': 2, 'n_jobs': 1, 'warm_start': False, 'oob_score': False, 'max_depth': None, 'class_weight': None, 'min_weight_fraction_leaf': 0.0, 'min_samples_leaf': 1, 'verbose': 0}\n"
     ]
    }
   ],
   "source": [
    "print(clf_rf.get_params())"
   ]
  },
  {
   "cell_type": "code",
   "execution_count": 14,
   "metadata": {
    "collapsed": false
   },
   "outputs": [
    {
     "data": {
      "text/plain": [
       "GridSearchCV(cv=sklearn.cross_validation.StratifiedKFold(labels=[0 0 ..., 2 2], n_folds=5, shuffle=True, random_state=None),\n",
       "       error_score='raise',\n",
       "       estimator=RandomForestClassifier(bootstrap=True, class_weight=None, criterion='gini',\n",
       "            max_depth=None, max_features='auto', max_leaf_nodes=None,\n",
       "            min_samples_leaf=1, min_samples_split=2,\n",
       "            min_weight_fraction_leaf=0.0, n_estimators=10, n_jobs=1,\n",
       "            oob_score=False, random_state=None, verbose=0,\n",
       "            warm_start=False),\n",
       "       fit_params={}, iid=True, n_jobs=-1,\n",
       "       param_grid={'n_estimators': [1, 2, 4, 8, 16, 32, 64, 128, 256]},\n",
       "       pre_dispatch='2*n_jobs', refit=True, scoring=None, verbose=0)"
      ]
     },
     "execution_count": 14,
     "metadata": {},
     "output_type": "execute_result"
    }
   ],
   "source": [
    "parameters_rf={'n_estimators':[1*2**i for i in range(9)]}\n",
    "grid_clf_rf=grid.GridSearchCV(clf_rf,parameters_rf,n_jobs=-1,cv=cv_method)\n",
    "grid_clf_rf.fit(dat,label)"
   ]
  },
  {
   "cell_type": "code",
   "execution_count": 15,
   "metadata": {
    "collapsed": false
   },
   "outputs": [
    {
     "data": {
      "text/plain": [
       "{'n_estimators': 8}"
      ]
     },
     "execution_count": 15,
     "metadata": {},
     "output_type": "execute_result"
    }
   ],
   "source": [
    "grid_clf_rf.best_params_"
   ]
  },
  {
   "cell_type": "code",
   "execution_count": 16,
   "metadata": {
    "collapsed": false
   },
   "outputs": [
    {
     "data": {
      "text/html": [
       "<div>\n",
       "<table border=\"1\" class=\"dataframe\">\n",
       "  <thead>\n",
       "    <tr style=\"text-align: right;\">\n",
       "      <th></th>\n",
       "      <th>parameters</th>\n",
       "      <th>mean_validation_score</th>\n",
       "      <th>cv_validation_scores</th>\n",
       "    </tr>\n",
       "  </thead>\n",
       "  <tbody>\n",
       "    <tr>\n",
       "      <th>0</th>\n",
       "      <td>{'n_estimators': 1}</td>\n",
       "      <td>0.946667</td>\n",
       "      <td>[0.966666666667, 0.933333333333, 0.96666666666...</td>\n",
       "    </tr>\n",
       "    <tr>\n",
       "      <th>1</th>\n",
       "      <td>{'n_estimators': 2}</td>\n",
       "      <td>0.946667</td>\n",
       "      <td>[0.933333333333, 0.933333333333, 0.96666666666...</td>\n",
       "    </tr>\n",
       "    <tr>\n",
       "      <th>2</th>\n",
       "      <td>{'n_estimators': 4}</td>\n",
       "      <td>0.940000</td>\n",
       "      <td>[0.933333333333, 0.933333333333, 0.9, 0.966666...</td>\n",
       "    </tr>\n",
       "    <tr>\n",
       "      <th>3</th>\n",
       "      <td>{'n_estimators': 8}</td>\n",
       "      <td>0.960000</td>\n",
       "      <td>[0.966666666667, 0.933333333333, 1.0, 0.933333...</td>\n",
       "    </tr>\n",
       "    <tr>\n",
       "      <th>4</th>\n",
       "      <td>{'n_estimators': 16}</td>\n",
       "      <td>0.960000</td>\n",
       "      <td>[0.966666666667, 0.966666666667, 0.96666666666...</td>\n",
       "    </tr>\n",
       "    <tr>\n",
       "      <th>5</th>\n",
       "      <td>{'n_estimators': 32}</td>\n",
       "      <td>0.953333</td>\n",
       "      <td>[0.933333333333, 0.966666666667, 0.96666666666...</td>\n",
       "    </tr>\n",
       "    <tr>\n",
       "      <th>6</th>\n",
       "      <td>{'n_estimators': 64}</td>\n",
       "      <td>0.953333</td>\n",
       "      <td>[0.933333333333, 0.966666666667, 0.96666666666...</td>\n",
       "    </tr>\n",
       "    <tr>\n",
       "      <th>7</th>\n",
       "      <td>{'n_estimators': 128}</td>\n",
       "      <td>0.953333</td>\n",
       "      <td>[0.933333333333, 0.966666666667, 0.96666666666...</td>\n",
       "    </tr>\n",
       "    <tr>\n",
       "      <th>8</th>\n",
       "      <td>{'n_estimators': 256}</td>\n",
       "      <td>0.946667</td>\n",
       "      <td>[0.9, 0.966666666667, 0.966666666667, 0.933333...</td>\n",
       "    </tr>\n",
       "  </tbody>\n",
       "</table>\n",
       "</div>"
      ],
      "text/plain": [
       "              parameters  mean_validation_score  \\\n",
       "0    {'n_estimators': 1}               0.946667   \n",
       "1    {'n_estimators': 2}               0.946667   \n",
       "2    {'n_estimators': 4}               0.940000   \n",
       "3    {'n_estimators': 8}               0.960000   \n",
       "4   {'n_estimators': 16}               0.960000   \n",
       "5   {'n_estimators': 32}               0.953333   \n",
       "6   {'n_estimators': 64}               0.953333   \n",
       "7  {'n_estimators': 128}               0.953333   \n",
       "8  {'n_estimators': 256}               0.946667   \n",
       "\n",
       "                                cv_validation_scores  \n",
       "0  [0.966666666667, 0.933333333333, 0.96666666666...  \n",
       "1  [0.933333333333, 0.933333333333, 0.96666666666...  \n",
       "2  [0.933333333333, 0.933333333333, 0.9, 0.966666...  \n",
       "3  [0.966666666667, 0.933333333333, 1.0, 0.933333...  \n",
       "4  [0.966666666667, 0.966666666667, 0.96666666666...  \n",
       "5  [0.933333333333, 0.966666666667, 0.96666666666...  \n",
       "6  [0.933333333333, 0.966666666667, 0.96666666666...  \n",
       "7  [0.933333333333, 0.966666666667, 0.96666666666...  \n",
       "8  [0.9, 0.966666666667, 0.966666666667, 0.933333...  "
      ]
     },
     "execution_count": 16,
     "metadata": {},
     "output_type": "execute_result"
    }
   ],
   "source": [
    "pd.DataFrame(grid_clf_rf.grid_scores_)"
   ]
  }
 ],
 "metadata": {
  "kernelspec": {
   "display_name": "Python 3",
   "language": "python",
   "name": "python3"
  },
  "language_info": {
   "codemirror_mode": {
    "name": "ipython",
    "version": 3
   },
   "file_extension": ".py",
   "mimetype": "text/x-python",
   "name": "python",
   "nbconvert_exporter": "python",
   "pygments_lexer": "ipython3",
   "version": "3.5.1"
  }
 },
 "nbformat": 4,
 "nbformat_minor": 0
}
