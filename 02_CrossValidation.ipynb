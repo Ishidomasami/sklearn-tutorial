{
 "cells": [
  {
   "cell_type": "code",
   "execution_count": 1,
   "metadata": {
    "collapsed": true
   },
   "outputs": [],
   "source": [
    "%matplotlib inline\n",
    "import pandas as pd\n",
    "import numpy as np\n",
    "from matplotlib import pyplot as plt"
   ]
  },
  {
   "cell_type": "code",
   "execution_count": 2,
   "metadata": {
    "collapsed": true
   },
   "outputs": [],
   "source": [
    "from sklearn.datasets import load_iris\n",
    "iris=load_iris()\n",
    "dat=iris.data\n",
    "label=iris.target"
   ]
  },
  {
   "cell_type": "code",
   "execution_count": 3,
   "metadata": {
    "collapsed": true
   },
   "outputs": [],
   "source": [
    "from sklearn.svm import SVC\n",
    "clf=SVC(probability=True)"
   ]
  },
  {
   "cell_type": "code",
   "execution_count": 4,
   "metadata": {
    "collapsed": false
   },
   "outputs": [],
   "source": [
    "from sklearn import cross_validation as cv"
   ]
  },
  {
   "cell_type": "markdown",
   "metadata": {},
   "source": [
    "# CrossValidation\n",
    "[公式ドキュメント](http://scikit-learn.org/stable/modules/cross_validation.html#cross-validation)"
   ]
  },
  {
   "cell_type": "code",
   "execution_count": 5,
   "metadata": {
    "collapsed": false
   },
   "outputs": [
    {
     "name": "stdout",
     "output_type": "stream",
     "text": [
      "SVC(C=1.0, cache_size=200, class_weight=None, coef0=0.0,\n",
      "  decision_function_shape=None, degree=3, gamma='auto', kernel='rbf',\n",
      "  max_iter=-1, probability=True, random_state=None, shrinking=True,\n",
      "  tol=0.001, verbose=False)\n"
     ]
    }
   ],
   "source": [
    "print(clf)\n",
    "score=cv.cross_val_score(clf,dat,label,cv=5,n_jobs=-1)"
   ]
  },
  {
   "cell_type": "markdown",
   "metadata": {},
   "source": [
    "> モデルのインスタンス、記述子、ラベル、分割数、ジョブ数(-1でコア数分並列)を指定\n"
   ]
  },
  {
   "cell_type": "code",
   "execution_count": 6,
   "metadata": {
    "collapsed": false,
    "scrolled": false
   },
   "outputs": [
    {
     "name": "stdout",
     "output_type": "stream",
     "text": [
      "all:  [ 0.96666667  1.          0.96666667  0.96666667  1.        ]\n",
      "Accuracy: 0.9800 (+/- 0.0163)\n"
     ]
    }
   ],
   "source": [
    "print(\"all: \",score)\n",
    "print(\"Accuracy: {0:04.4f} (+/- {1:04.4f})\".format(score.mean(),score.std()))"
   ]
  },
  {
   "cell_type": "markdown",
   "metadata": {},
   "source": [
    "> scoreのデフォルトは正答率（accurary）\n",
    "\n",
    "> 他にもあるけどマルチクラス分類では使えないのが多い。\n",
    "\n",
    "> [参照](http://scikit-learn.org/stable/modules/model_evaluation.html#scoring-parameter)"
   ]
  },
  {
   "cell_type": "markdown",
   "metadata": {},
   "source": [
    "デフォルトでは単純に入力順にn分割している様子、cvにクロスバリデーション法を入力すればその方法で分割する"
   ]
  },
  {
   "cell_type": "code",
   "execution_count": 7,
   "metadata": {
    "collapsed": false
   },
   "outputs": [
    {
     "data": {
      "text/plain": [
       "array([ 1.        ,  1.        ,  0.96666667,  1.        ,  0.9       ])"
      ]
     },
     "execution_count": 7,
     "metadata": {},
     "output_type": "execute_result"
    }
   ],
   "source": [
    "cv_method=cv.StratifiedKFold(label,shuffle=True,n_folds=5) #マルチクラスK-Fold\n",
    "cv.cross_val_score(clf,dat,label,cv=cv_method,n_jobs=-1)"
   ]
  },
  {
   "cell_type": "markdown",
   "metadata": {},
   "source": [
    "### SVMのコストパラメータを探索する場合"
   ]
  },
  {
   "cell_type": "code",
   "execution_count": 8,
   "metadata": {
    "collapsed": false,
    "scrolled": true
   },
   "outputs": [],
   "source": [
    "C_params=np.logspace(-2, 2, 9)\n",
    "cv_method=cv.StratifiedKFold(label,shuffle=True,n_folds=5) "
   ]
  },
  {
   "cell_type": "code",
   "execution_count": 9,
   "metadata": {
    "collapsed": false
   },
   "outputs": [],
   "source": [
    "scores=list()\n",
    "for C in C_params:\n",
    "    clf.C=C\n",
    "    tmp_score=cv.cross_val_score(clf,dat,label,cv=5,n_jobs=-1)\n",
    "    scores.append(np.mean(tmp_score))"
   ]
  },
  {
   "cell_type": "code",
   "execution_count": 10,
   "metadata": {
    "collapsed": false,
    "scrolled": true
   },
   "outputs": [
    {
     "data": {
      "text/plain": [
       "<matplotlib.collections.PathCollection at 0x7fbf082fd6a0>"
      ]
     },
     "execution_count": 10,
     "metadata": {},
     "output_type": "execute_result"
    },
    {
     "data": {
      "image/png": "[encoded data removed]",
      "text/plain": [
       "<matplotlib.figure.Figure at 0x7fbf08b43a58>"
      ]
     },
     "metadata": {},
     "output_type": "display_data"
    }
   ],
   "source": [
    "fig = plt.figure()\n",
    "ax = plt.gca()\n",
    "ax.set_xscale(\"log\")\n",
    "ax.set_xlim(0.01,100)\n",
    "ax.scatter(C_params,scores)"
   ]
  },
  {
   "cell_type": "code",
   "execution_count": 11,
   "metadata": {
    "collapsed": false
   },
   "outputs": [],
   "source": [
    "C_params2=np.linspace(1,10,20)\n",
    "scores2=list()\n",
    "for C in C_params2:\n",
    "    clf.C=C\n",
    "    tmp_score=cv.cross_val_score(clf,dat,label,cv=5,n_jobs=-1)\n",
    "    scores2.append(np.mean(tmp_score))"
   ]
  },
  {
   "cell_type": "code",
   "execution_count": 12,
   "metadata": {
    "collapsed": false
   },
   "outputs": [
    {
     "data": {
      "text/plain": [
       "<matplotlib.collections.PathCollection at 0x7fbf08011400>"
      ]
     },
     "execution_count": 12,
     "metadata": {},
     "output_type": "execute_result"
    },
    {
     "data": {
      "image/png": "[encoded data removed]",
      "text/plain": [
       "<matplotlib.figure.Figure at 0x7fbf080b46d8>"
      ]
     },
     "metadata": {},
     "output_type": "display_data"
    }
   ],
   "source": [
    "plt.scatter(C_params2,scores2)"
   ]
  },
  {
   "cell_type": "code",
   "execution_count": 13,
   "metadata": {
    "collapsed": false
   },
   "outputs": [
    {
     "data": {
      "text/plain": [
       "<matplotlib.collections.PathCollection at 0x7fbf0810c940>"
      ]
     },
     "execution_count": 13,
     "metadata": {},
     "output_type": "execute_result"
    },
    {
     "data": {
      "image/png": "[encoded data removed]",
      "text/plain": [
       "<matplotlib.figure.Figure at 0x7fbf081e8c18>"
      ]
     },
     "metadata": {},
     "output_type": "display_data"
    }
   ],
   "source": [
    "C_params3=np.linspace(3,5,21)\n",
    "scores3=list()\n",
    "for C in C_params3:\n",
    "    clf.C=C\n",
    "    tmp_score=cv.cross_val_score(clf,dat,label,cv=5,n_jobs=-1)\n",
    "    scores3.append(np.mean(tmp_score))\n",
    "plt.scatter(C_params3,scores3)"
   ]
  },
  {
   "cell_type": "code",
   "execution_count": 14,
   "metadata": {
    "collapsed": false
   },
   "outputs": [
    {
     "name": "stdout",
     "output_type": "stream",
     "text": [
      "Accuracy: 0.9733 (+/- 0.0249)\n"
     ]
    }
   ],
   "source": [
    "clf.C=3.6\n",
    "score=cv.cross_val_score(clf,dat,label,cv=cv_method)\n",
    "print(\"Accuracy: {0:04.4f} (+/- {1:04.4f})\".format(score.mean(),score.std()))"
   ]
  },
  {
   "cell_type": "markdown",
   "metadata": {},
   "source": [
    "# おまけ\n",
    "> cross_val_scoreを使わず実装するなら"
   ]
  },
  {
   "cell_type": "code",
   "execution_count": 15,
   "metadata": {
    "collapsed": false
   },
   "outputs": [
    {
     "data": {
      "text/plain": [
       "(array([  0,   1,   4,   5,   6,   7,   8,   9,  10,  11,  12,  13,  14,\n",
       "         15,  17,  19,  20,  21,  22,  23,  24,  25,  26,  27,  29,  32,\n",
       "         34,  35,  36,  37,  38,  39,  41,  42,  43,  44,  45,  47,  48,\n",
       "         49,  53,  54,  55,  56,  57,  58,  60,  61,  62,  63,  64,  66,\n",
       "         67,  68,  69,  71,  72,  73,  74,  75,  76,  77,  78,  79,  80,\n",
       "         81,  82,  83,  84,  85,  86,  87,  89,  90,  92,  93,  94,  95,\n",
       "         97,  98, 101, 102, 104, 105, 106, 107, 108, 109, 111, 113, 114,\n",
       "        115, 116, 117, 118, 119, 120, 121, 122, 123, 124, 125, 128, 130,\n",
       "        131, 132, 133, 134, 135, 138, 139, 140, 141, 142, 143, 144, 145,\n",
       "        146, 148, 149]),\n",
       " array([  2,   3,  16,  18,  28,  30,  31,  33,  40,  46,  50,  51,  52,\n",
       "         59,  65,  70,  88,  91,  96,  99, 100, 103, 110, 112, 126, 127,\n",
       "        129, 136, 137, 147]))"
      ]
     },
     "execution_count": 15,
     "metadata": {},
     "output_type": "execute_result"
    }
   ],
   "source": [
    "skf=cv.StratifiedKFold(label,n_folds=5,shuffle=True) # generaterを作成する\n",
    "for i in skf:pass\n",
    "i # 一個一個のgeneraterにはindexのリストが含まれている"
   ]
  },
  {
   "cell_type": "code",
   "execution_count": 16,
   "metadata": {
    "collapsed": false
   },
   "outputs": [
    {
     "name": "stdout",
     "output_type": "stream",
     "text": [
      "all:  [ 0.96666667  0.96666667  0.93333333  0.96666667  1.        ]\n",
      "Accuracy: 0.9667 (+/- 0.0211)\n"
     ]
    }
   ],
   "source": [
    "score=list()\n",
    "for train_index,test_index in skf:\n",
    "    dat_train=dat[train_index]\n",
    "    dat_test=dat[test_index]\n",
    "    label_train=label[train_index]\n",
    "    label_test=label[test_index]\n",
    "    clf.fit(dat_train,label_train)\n",
    "    rslt=clf.predict(dat_test)\n",
    "    tmp_score=0\n",
    "    for i,j in enumerate(rslt):\n",
    "        if j==label_test[i]:tmp_score+=1\n",
    "    score.append(tmp_score/len(test_index))\n",
    "score=np.array(score)\n",
    "print(\"all: \",score)\n",
    "print(\"Accuracy: {0:04.4f} (+/- {1:04.4f})\".format(score.mean(),score.std()))"
   ]
  },
  {
   "cell_type": "markdown",
   "metadata": {},
   "source": [
    "# トレーニングとテスト用データの分割\n",
    "\n",
    "> マニュアルで二分割したい時"
   ]
  },
  {
   "cell_type": "code",
   "execution_count": 17,
   "metadata": {
    "collapsed": false
   },
   "outputs": [],
   "source": [
    "dat_train,dat_test,label_train,label_test=cv.train_test_split(dat,label,train_size=0.95)"
   ]
  },
  {
   "cell_type": "markdown",
   "metadata": {},
   "source": [
    "> train_sizeで0~1の範囲で分割する\n",
    "\n",
    "> 最初に出てくるものがtrain用データ\n",
    "\n",
    "> random_stateでseed固定も可能\n",
    "\n",
    "> 実は分割したい配列は１つや２つだけでなく、いくつでも渡せる"
   ]
  },
  {
   "cell_type": "code",
   "execution_count": 18,
   "metadata": {
    "collapsed": false
   },
   "outputs": [
    {
     "name": "stdout",
     "output_type": "stream",
     "text": [
      "142\n",
      "8\n",
      "142\n",
      "8\n"
     ]
    }
   ],
   "source": [
    "print(len(dat_train))\n",
    "print(len(dat_test))\n",
    "print(len(label_train))\n",
    "print(len(label_test))"
   ]
  },
  {
   "cell_type": "code",
   "execution_count": 19,
   "metadata": {
    "collapsed": false
   },
   "outputs": [],
   "source": [
    "clf.fit(dat_train,label_train)\n",
    "label_pred=clf.predict(dat_test)"
   ]
  },
  {
   "cell_type": "code",
   "execution_count": 20,
   "metadata": {
    "collapsed": false
   },
   "outputs": [
    {
     "data": {
      "text/html": [
       "<div>\n",
       "<table border=\"1\" class=\"dataframe\">\n",
       "  <thead>\n",
       "    <tr style=\"text-align: right;\">\n",
       "      <th></th>\n",
       "      <th>0</th>\n",
       "      <th>1</th>\n",
       "      <th>2</th>\n",
       "      <th>3</th>\n",
       "      <th>4</th>\n",
       "      <th>5</th>\n",
       "      <th>6</th>\n",
       "      <th>7</th>\n",
       "    </tr>\n",
       "  </thead>\n",
       "  <tbody>\n",
       "    <tr>\n",
       "      <th>prediction</th>\n",
       "      <td>0</td>\n",
       "      <td>0</td>\n",
       "      <td>2</td>\n",
       "      <td>0</td>\n",
       "      <td>1</td>\n",
       "      <td>2</td>\n",
       "      <td>2</td>\n",
       "      <td>0</td>\n",
       "    </tr>\n",
       "    <tr>\n",
       "      <th>fact</th>\n",
       "      <td>0</td>\n",
       "      <td>0</td>\n",
       "      <td>2</td>\n",
       "      <td>0</td>\n",
       "      <td>1</td>\n",
       "      <td>2</td>\n",
       "      <td>2</td>\n",
       "      <td>0</td>\n",
       "    </tr>\n",
       "  </tbody>\n",
       "</table>\n",
       "</div>"
      ],
      "text/plain": [
       "            0  1  2  3  4  5  6  7\n",
       "prediction  0  0  2  0  1  2  2  0\n",
       "fact        0  0  2  0  1  2  2  0"
      ]
     },
     "execution_count": 20,
     "metadata": {},
     "output_type": "execute_result"
    }
   ],
   "source": [
    "pd.DataFrame(np.c_[label_pred,label_test],columns=[\"prediction\",\"fact\"]).T"
   ]
  },
  {
   "cell_type": "code",
   "execution_count": 21,
   "metadata": {
    "collapsed": false
   },
   "outputs": [
    {
     "data": {
      "text/html": [
       "<div>\n",
       "<table border=\"1\" class=\"dataframe\">\n",
       "  <thead>\n",
       "    <tr style=\"text-align: right;\">\n",
       "      <th></th>\n",
       "      <th>0</th>\n",
       "      <th>1</th>\n",
       "      <th>2</th>\n",
       "      <th>3</th>\n",
       "      <th>4</th>\n",
       "      <th>5</th>\n",
       "      <th>6</th>\n",
       "      <th>7</th>\n",
       "    </tr>\n",
       "  </thead>\n",
       "  <tbody>\n",
       "    <tr>\n",
       "      <th>prediction</th>\n",
       "      <td>1</td>\n",
       "      <td>2</td>\n",
       "      <td>1</td>\n",
       "      <td>2</td>\n",
       "      <td>1</td>\n",
       "      <td>1</td>\n",
       "      <td>0</td>\n",
       "      <td>1</td>\n",
       "    </tr>\n",
       "    <tr>\n",
       "      <th>fact</th>\n",
       "      <td>0</td>\n",
       "      <td>0</td>\n",
       "      <td>0</td>\n",
       "      <td>0</td>\n",
       "      <td>0</td>\n",
       "      <td>0</td>\n",
       "      <td>0</td>\n",
       "      <td>1</td>\n",
       "    </tr>\n",
       "  </tbody>\n",
       "</table>\n",
       "</div>"
      ],
      "text/plain": [
       "            0  1  2  3  4  5  6  7\n",
       "prediction  1  2  1  2  1  1  0  1\n",
       "fact        0  0  0  0  0  0  0  1"
      ]
     },
     "execution_count": 21,
     "metadata": {},
     "output_type": "execute_result"
    }
   ],
   "source": [
    "dat_train_NG,dat_test_NG=cv.train_test_split(dat,train_size=0.95)\n",
    "label_train_NG,label_test_NG=cv.train_test_split(label,train_size=0.95) #上とseedが違う可能性あり!!\n",
    "clf.fit(dat_train_NG,label_train_NG)\n",
    "label_pred_NG=clf.predict(dat_test_NG)\n",
    "pd.DataFrame(np.c_[label_pred_NG,label_test_NG],columns=[\"prediction\",\"fact\"]).T"
   ]
  },
  {
   "cell_type": "markdown",
   "metadata": {},
   "source": [
    "> random_stateを指定せずに分割するときは一文でないと、ばらばらなseedでランダム分割されるので注意"
   ]
  }
 ],
 "metadata": {
  "kernelspec": {
   "display_name": "Python 3",
   "language": "python",
   "name": "python3"
  },
  "language_info": {
   "codemirror_mode": {
    "name": "ipython",
    "version": 3
   },
   "file_extension": ".py",
   "mimetype": "text/x-python",
   "name": "python",
   "nbconvert_exporter": "python",
   "pygments_lexer": "ipython3",
   "version": "3.5.1"
  }
 },
 "nbformat": 4,
 "nbformat_minor": 0
}
