{
 "cells": [
  {
   "cell_type": "code",
   "execution_count": 1,
   "metadata": {
    "collapsed": true
   },
   "outputs": [],
   "source": [
    "from sklearn.preprocessing import PolynomialFeatures\n",
    "import numpy as np\n",
    "from sklearn import linear_model, grid_search\n",
    "import matplotlib.pyplot as plt"
   ]
  },
  {
   "cell_type": "code",
   "execution_count": 2,
   "metadata": {
    "collapsed": true
   },
   "outputs": [],
   "source": [
    "X = np.linspace(-10, 10, 20)\n",
    "Y = 0.001 * (X*X*X + X*X + X) + np.random.normal(0, 0.1, len(X))\n",
    "poly = PolynomialFeatures(degree=10)\n",
    "X_poly = poly.fit_transform(X[:, np.newaxis])"
   ]
  },
  {
   "cell_type": "code",
   "execution_count": 3,
   "metadata": {
    "collapsed": true
   },
   "outputs": [],
   "source": [
    "parameters1 = {'alpha' : np.logspace(-3, 1, 100)}\n",
    "parameters2 = {'alpha' : np.logspace(1, 4, 100)}\n",
    "parameters3 = {'alpha' : np.logspace(-3, 1, 100), 'l1_ratio' : np.logspace(-1, 0, 10)}"
   ]
  },
  {
   "cell_type": "code",
   "execution_count": 4,
   "metadata": {
    "collapsed": false
   },
   "outputs": [
    {
     "data": {
      "text/plain": [
       "GridSearchCV(cv=10, error_score='raise',\n",
       "       estimator=LassoLars(alpha=1.0, copy_X=True, eps=2.2204460492503131e-16,\n",
       "     fit_intercept=True, fit_path=True, max_iter=500, normalize=True,\n",
       "     positive=False, precompute='auto', verbose=False),\n",
       "       fit_params={}, iid=True, n_jobs=1,\n",
       "       param_grid={'alpha': array([  1.00000e-03,   1.09750e-03, ...,   9.11163e+00,   1.00000e+01])},\n",
       "       pre_dispatch='2*n_jobs', refit=True, scoring=None, verbose=0)"
      ]
     },
     "execution_count": 4,
     "metadata": {},
     "output_type": "execute_result"
    }
   ],
   "source": [
    "model_l1 = grid_search.GridSearchCV(linear_model.LassoLars(), parameters1, cv=10)\n",
    "model_l1.fit(X_poly, Y)"
   ]
  },
  {
   "cell_type": "code",
   "execution_count": 5,
   "metadata": {
    "collapsed": false,
    "scrolled": true
   },
   "outputs": [
    {
     "name": "stdout",
     "output_type": "stream",
     "text": [
      "Lasso Regresion : \n",
      "{'alpha': 0.012328467394420665}\n",
      "[ 0.          0.          0.          0.00096068  0.          0.          0.\n",
      "  0.          0.          0.          0.        ]\n"
     ]
    }
   ],
   "source": [
    "print(\"Lasso Regresion : \")\n",
    "print(model_l1.best_params_)\n",
    "print(model_l1.best_estimator_.coef_)"
   ]
  },
  {
   "cell_type": "code",
   "execution_count": 6,
   "metadata": {
    "collapsed": false
   },
   "outputs": [
    {
     "data": {
      "text/plain": [
       "GridSearchCV(cv=10, error_score='raise',\n",
       "       estimator=Ridge(alpha=1.0, copy_X=True, fit_intercept=True, max_iter=None,\n",
       "   normalize=False, random_state=None, solver='auto', tol=0.001),\n",
       "       fit_params={}, iid=True, n_jobs=1,\n",
       "       param_grid={'alpha': array([    10.     ,     10.72267, ...,   9326.03347,  10000.     ])},\n",
       "       pre_dispatch='2*n_jobs', refit=True, scoring=None, verbose=0)"
      ]
     },
     "execution_count": 6,
     "metadata": {},
     "output_type": "execute_result"
    }
   ],
   "source": [
    "model_l2 = grid_search.GridSearchCV(linear_model.Ridge(), parameters2, cv=10)\n",
    "model_l2.fit(X_poly, Y)"
   ]
  },
  {
   "cell_type": "code",
   "execution_count": 7,
   "metadata": {
    "collapsed": false,
    "scrolled": true
   },
   "outputs": [
    {
     "name": "stdout",
     "output_type": "stream",
     "text": [
      "Ridge Regresion : \n",
      "{'alpha': 1000.0}\n",
      "[  0.00000000e+00  -3.12149602e-05   9.80199870e-04   3.86867268e-04\n",
      "   1.61346801e-04   4.99304868e-05  -5.32263503e-06  -9.24182359e-07\n",
      "   5.75294680e-08   4.96659350e-09  -2.03590455e-10]\n"
     ]
    }
   ],
   "source": [
    "print(\"Ridge Regresion : \")\n",
    "print(model_l2.best_params_)\n",
    "print(model_l2.best_estimator_.coef_)"
   ]
  },
  {
   "cell_type": "code",
   "execution_count": 10,
   "metadata": {
    "collapsed": false
   },
   "outputs": [
    {
     "data": {
      "image/png": "[encoded data removed]",
      "text/plain": [
       "<matplotlib.figure.Figure at 0x7fa1bfa70b00>"
      ]
     },
     "metadata": {},
     "output_type": "display_data"
    }
   ],
   "source": [
    "xs = np.linspace(-10, 10, 200)\n",
    "Y_predict_1 = model_l1.predict(poly.fit_transform(xs[:, np.newaxis]))\n",
    "Y_predict_2 = model_l2.predict(poly.fit_transform(xs[:, np.newaxis]))\n",
    "\n",
    "plt.plot(X, Y, \".\", color=\"k\")\n",
    "plt.plot(xs, Y_predict_1, \"-\", color=\"r\", label=\"Lasso\")\n",
    "plt.plot(xs, Y_predict_2, \"-\", color=\"b\", label=\"Ridge\")\n",
    "plt.legend(loc=\"lower left\")\n",
    "plt.show()"
   ]
  }
 ],
 "metadata": {
  "kernelspec": {
   "display_name": "Python 3",
   "language": "python",
   "name": "python3"
  },
  "language_info": {
   "codemirror_mode": {
    "name": "ipython",
    "version": 3
   },
   "file_extension": ".py",
   "mimetype": "text/x-python",
   "name": "python",
   "nbconvert_exporter": "python",
   "pygments_lexer": "ipython3",
   "version": "3.5.1"
  }
 },
 "nbformat": 4,
 "nbformat_minor": 0
}
